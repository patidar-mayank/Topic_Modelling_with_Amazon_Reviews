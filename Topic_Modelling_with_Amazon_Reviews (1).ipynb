{
  "nbformat": 4,
  "nbformat_minor": 0,
  "metadata": {
    "colab": {
      "provenance": [],
      "gpuType": "T4"
    },
    "kernelspec": {
      "name": "python3",
      "display_name": "Python 3"
    },
    "language_info": {
      "name": "python"
    },
    "accelerator": "GPU"
  },
  "cells": [
    {
      "cell_type": "markdown",
      "source": [
        "**Import necessary library**"
      ],
      "metadata": {
        "id": "pHuPUE536yxw"
      }
    },
    {
      "cell_type": "code",
      "execution_count": 1,
      "metadata": {
        "id": "covv2vXr21s9"
      },
      "outputs": [],
      "source": [
        "import pandas as pd\n",
        "import numpy as np\n",
        "import seaborn as sns\n",
        "import matplotlib.pyplot as plt\n",
        "import nltk\n",
        "from nltk.corpus import stopwords\n",
        "from gensim.utils import simple_preprocess\n",
        "import spacy\n",
        "from gensim.corpora import Dictionary\n",
        "from gensim.models import LdaModel\n",
        "import pyLDAvis.gensim_models\n",
        "import pyLDAvis\n"
      ]
    },
    {
      "cell_type": "markdown",
      "source": [
        "**load dataset**"
      ],
      "metadata": {
        "id": "RjIO9uFAmPbv"
      }
    },
    {
      "cell_type": "code",
      "source": [
        "df = pd.read_csv(\"/content/Reviews.csv\", engine='python', on_bad_lines='skip')"
      ],
      "metadata": {
        "id": "zSB6Qb2U3zBw"
      },
      "execution_count": 2,
      "outputs": []
    },
    {
      "cell_type": "code",
      "source": [
        "df.head()"
      ],
      "metadata": {
        "colab": {
          "base_uri": "https://localhost:8080/",
          "height": 588
        },
        "id": "e_AZbPOW5qLq",
        "outputId": "31517bf8-45e2-4c75-a4ed-876f151cc24d"
      },
      "execution_count": 3,
      "outputs": [
        {
          "output_type": "execute_result",
          "data": {
            "text/plain": [
              "   Id   ProductId          UserId                      ProfileName  \\\n",
              "0   1  B001E4KFG0  A3SGXH7AUHU8GW                       delmartian   \n",
              "1   2  B00813GRG4  A1D87F6ZCVE5NK                           dll pa   \n",
              "2   3  B000LQOCH0   ABXLMWJIXXAIN  Natalia Corres \"Natalia Corres\"   \n",
              "3   4  B000UA0QIQ  A395BORC6FGVXV                             Karl   \n",
              "4   5  B006K2ZZ7K  A1UQRSCLF8GW1T    Michael D. Bigham \"M. Wassir\"   \n",
              "\n",
              "   HelpfulnessNumerator  HelpfulnessDenominator  Score        Time  \\\n",
              "0                     1                       1      5  1303862400   \n",
              "1                     0                       0      1  1346976000   \n",
              "2                     1                       1      4  1219017600   \n",
              "3                     3                       3      2  1307923200   \n",
              "4                     0                       0      5  1350777600   \n",
              "\n",
              "                 Summary                                               Text  \n",
              "0  Good Quality Dog Food  I have bought several of the Vitality canned d...  \n",
              "1      Not as Advertised  Product arrived labeled as Jumbo Salted Peanut...  \n",
              "2  \"Delight\" says it all  This is a confection that has been around a fe...  \n",
              "3         Cough Medicine  If you are looking for the secret ingredient i...  \n",
              "4            Great taffy  Great taffy at a great price.  There was a wid...  "
            ],
            "text/html": [
              "\n",
              "  <div id=\"df-69e4ecb0-cef9-4d69-9c65-e3753af39c54\" class=\"colab-df-container\">\n",
              "    <div>\n",
              "<style scoped>\n",
              "    .dataframe tbody tr th:only-of-type {\n",
              "        vertical-align: middle;\n",
              "    }\n",
              "\n",
              "    .dataframe tbody tr th {\n",
              "        vertical-align: top;\n",
              "    }\n",
              "\n",
              "    .dataframe thead th {\n",
              "        text-align: right;\n",
              "    }\n",
              "</style>\n",
              "<table border=\"1\" class=\"dataframe\">\n",
              "  <thead>\n",
              "    <tr style=\"text-align: right;\">\n",
              "      <th></th>\n",
              "      <th>Id</th>\n",
              "      <th>ProductId</th>\n",
              "      <th>UserId</th>\n",
              "      <th>ProfileName</th>\n",
              "      <th>HelpfulnessNumerator</th>\n",
              "      <th>HelpfulnessDenominator</th>\n",
              "      <th>Score</th>\n",
              "      <th>Time</th>\n",
              "      <th>Summary</th>\n",
              "      <th>Text</th>\n",
              "    </tr>\n",
              "  </thead>\n",
              "  <tbody>\n",
              "    <tr>\n",
              "      <th>0</th>\n",
              "      <td>1</td>\n",
              "      <td>B001E4KFG0</td>\n",
              "      <td>A3SGXH7AUHU8GW</td>\n",
              "      <td>delmartian</td>\n",
              "      <td>1</td>\n",
              "      <td>1</td>\n",
              "      <td>5</td>\n",
              "      <td>1303862400</td>\n",
              "      <td>Good Quality Dog Food</td>\n",
              "      <td>I have bought several of the Vitality canned d...</td>\n",
              "    </tr>\n",
              "    <tr>\n",
              "      <th>1</th>\n",
              "      <td>2</td>\n",
              "      <td>B00813GRG4</td>\n",
              "      <td>A1D87F6ZCVE5NK</td>\n",
              "      <td>dll pa</td>\n",
              "      <td>0</td>\n",
              "      <td>0</td>\n",
              "      <td>1</td>\n",
              "      <td>1346976000</td>\n",
              "      <td>Not as Advertised</td>\n",
              "      <td>Product arrived labeled as Jumbo Salted Peanut...</td>\n",
              "    </tr>\n",
              "    <tr>\n",
              "      <th>2</th>\n",
              "      <td>3</td>\n",
              "      <td>B000LQOCH0</td>\n",
              "      <td>ABXLMWJIXXAIN</td>\n",
              "      <td>Natalia Corres \"Natalia Corres\"</td>\n",
              "      <td>1</td>\n",
              "      <td>1</td>\n",
              "      <td>4</td>\n",
              "      <td>1219017600</td>\n",
              "      <td>\"Delight\" says it all</td>\n",
              "      <td>This is a confection that has been around a fe...</td>\n",
              "    </tr>\n",
              "    <tr>\n",
              "      <th>3</th>\n",
              "      <td>4</td>\n",
              "      <td>B000UA0QIQ</td>\n",
              "      <td>A395BORC6FGVXV</td>\n",
              "      <td>Karl</td>\n",
              "      <td>3</td>\n",
              "      <td>3</td>\n",
              "      <td>2</td>\n",
              "      <td>1307923200</td>\n",
              "      <td>Cough Medicine</td>\n",
              "      <td>If you are looking for the secret ingredient i...</td>\n",
              "    </tr>\n",
              "    <tr>\n",
              "      <th>4</th>\n",
              "      <td>5</td>\n",
              "      <td>B006K2ZZ7K</td>\n",
              "      <td>A1UQRSCLF8GW1T</td>\n",
              "      <td>Michael D. Bigham \"M. Wassir\"</td>\n",
              "      <td>0</td>\n",
              "      <td>0</td>\n",
              "      <td>5</td>\n",
              "      <td>1350777600</td>\n",
              "      <td>Great taffy</td>\n",
              "      <td>Great taffy at a great price.  There was a wid...</td>\n",
              "    </tr>\n",
              "  </tbody>\n",
              "</table>\n",
              "</div>\n",
              "    <div class=\"colab-df-buttons\">\n",
              "\n",
              "  <div class=\"colab-df-container\">\n",
              "    <button class=\"colab-df-convert\" onclick=\"convertToInteractive('df-69e4ecb0-cef9-4d69-9c65-e3753af39c54')\"\n",
              "            title=\"Convert this dataframe to an interactive table.\"\n",
              "            style=\"display:none;\">\n",
              "\n",
              "  <svg xmlns=\"http://www.w3.org/2000/svg\" height=\"24px\" viewBox=\"0 -960 960 960\">\n",
              "    <path d=\"M120-120v-720h720v720H120Zm60-500h600v-160H180v160Zm220 220h160v-160H400v160Zm0 220h160v-160H400v160ZM180-400h160v-160H180v160Zm440 0h160v-160H620v160ZM180-180h160v-160H180v160Zm440 0h160v-160H620v160Z\"/>\n",
              "  </svg>\n",
              "    </button>\n",
              "\n",
              "  <style>\n",
              "    .colab-df-container {\n",
              "      display:flex;\n",
              "      gap: 12px;\n",
              "    }\n",
              "\n",
              "    .colab-df-convert {\n",
              "      background-color: #E8F0FE;\n",
              "      border: none;\n",
              "      border-radius: 50%;\n",
              "      cursor: pointer;\n",
              "      display: none;\n",
              "      fill: #1967D2;\n",
              "      height: 32px;\n",
              "      padding: 0 0 0 0;\n",
              "      width: 32px;\n",
              "    }\n",
              "\n",
              "    .colab-df-convert:hover {\n",
              "      background-color: #E2EBFA;\n",
              "      box-shadow: 0px 1px 2px rgba(60, 64, 67, 0.3), 0px 1px 3px 1px rgba(60, 64, 67, 0.15);\n",
              "      fill: #174EA6;\n",
              "    }\n",
              "\n",
              "    .colab-df-buttons div {\n",
              "      margin-bottom: 4px;\n",
              "    }\n",
              "\n",
              "    [theme=dark] .colab-df-convert {\n",
              "      background-color: #3B4455;\n",
              "      fill: #D2E3FC;\n",
              "    }\n",
              "\n",
              "    [theme=dark] .colab-df-convert:hover {\n",
              "      background-color: #434B5C;\n",
              "      box-shadow: 0px 1px 3px 1px rgba(0, 0, 0, 0.15);\n",
              "      filter: drop-shadow(0px 1px 2px rgba(0, 0, 0, 0.3));\n",
              "      fill: #FFFFFF;\n",
              "    }\n",
              "  </style>\n",
              "\n",
              "    <script>\n",
              "      const buttonEl =\n",
              "        document.querySelector('#df-69e4ecb0-cef9-4d69-9c65-e3753af39c54 button.colab-df-convert');\n",
              "      buttonEl.style.display =\n",
              "        google.colab.kernel.accessAllowed ? 'block' : 'none';\n",
              "\n",
              "      async function convertToInteractive(key) {\n",
              "        const element = document.querySelector('#df-69e4ecb0-cef9-4d69-9c65-e3753af39c54');\n",
              "        const dataTable =\n",
              "          await google.colab.kernel.invokeFunction('convertToInteractive',\n",
              "                                                    [key], {});\n",
              "        if (!dataTable) return;\n",
              "\n",
              "        const docLinkHtml = 'Like what you see? Visit the ' +\n",
              "          '<a target=\"_blank\" href=https://colab.research.google.com/notebooks/data_table.ipynb>data table notebook</a>'\n",
              "          + ' to learn more about interactive tables.';\n",
              "        element.innerHTML = '';\n",
              "        dataTable['output_type'] = 'display_data';\n",
              "        await google.colab.output.renderOutput(dataTable, element);\n",
              "        const docLink = document.createElement('div');\n",
              "        docLink.innerHTML = docLinkHtml;\n",
              "        element.appendChild(docLink);\n",
              "      }\n",
              "    </script>\n",
              "  </div>\n",
              "\n",
              "\n",
              "    <div id=\"df-8570d710-e6f9-4e3f-8b93-d8b02d7ab522\">\n",
              "      <button class=\"colab-df-quickchart\" onclick=\"quickchart('df-8570d710-e6f9-4e3f-8b93-d8b02d7ab522')\"\n",
              "                title=\"Suggest charts\"\n",
              "                style=\"display:none;\">\n",
              "\n",
              "<svg xmlns=\"http://www.w3.org/2000/svg\" height=\"24px\"viewBox=\"0 0 24 24\"\n",
              "     width=\"24px\">\n",
              "    <g>\n",
              "        <path d=\"M19 3H5c-1.1 0-2 .9-2 2v14c0 1.1.9 2 2 2h14c1.1 0 2-.9 2-2V5c0-1.1-.9-2-2-2zM9 17H7v-7h2v7zm4 0h-2V7h2v10zm4 0h-2v-4h2v4z\"/>\n",
              "    </g>\n",
              "</svg>\n",
              "      </button>\n",
              "\n",
              "<style>\n",
              "  .colab-df-quickchart {\n",
              "      --bg-color: #E8F0FE;\n",
              "      --fill-color: #1967D2;\n",
              "      --hover-bg-color: #E2EBFA;\n",
              "      --hover-fill-color: #174EA6;\n",
              "      --disabled-fill-color: #AAA;\n",
              "      --disabled-bg-color: #DDD;\n",
              "  }\n",
              "\n",
              "  [theme=dark] .colab-df-quickchart {\n",
              "      --bg-color: #3B4455;\n",
              "      --fill-color: #D2E3FC;\n",
              "      --hover-bg-color: #434B5C;\n",
              "      --hover-fill-color: #FFFFFF;\n",
              "      --disabled-bg-color: #3B4455;\n",
              "      --disabled-fill-color: #666;\n",
              "  }\n",
              "\n",
              "  .colab-df-quickchart {\n",
              "    background-color: var(--bg-color);\n",
              "    border: none;\n",
              "    border-radius: 50%;\n",
              "    cursor: pointer;\n",
              "    display: none;\n",
              "    fill: var(--fill-color);\n",
              "    height: 32px;\n",
              "    padding: 0;\n",
              "    width: 32px;\n",
              "  }\n",
              "\n",
              "  .colab-df-quickchart:hover {\n",
              "    background-color: var(--hover-bg-color);\n",
              "    box-shadow: 0 1px 2px rgba(60, 64, 67, 0.3), 0 1px 3px 1px rgba(60, 64, 67, 0.15);\n",
              "    fill: var(--button-hover-fill-color);\n",
              "  }\n",
              "\n",
              "  .colab-df-quickchart-complete:disabled,\n",
              "  .colab-df-quickchart-complete:disabled:hover {\n",
              "    background-color: var(--disabled-bg-color);\n",
              "    fill: var(--disabled-fill-color);\n",
              "    box-shadow: none;\n",
              "  }\n",
              "\n",
              "  .colab-df-spinner {\n",
              "    border: 2px solid var(--fill-color);\n",
              "    border-color: transparent;\n",
              "    border-bottom-color: var(--fill-color);\n",
              "    animation:\n",
              "      spin 1s steps(1) infinite;\n",
              "  }\n",
              "\n",
              "  @keyframes spin {\n",
              "    0% {\n",
              "      border-color: transparent;\n",
              "      border-bottom-color: var(--fill-color);\n",
              "      border-left-color: var(--fill-color);\n",
              "    }\n",
              "    20% {\n",
              "      border-color: transparent;\n",
              "      border-left-color: var(--fill-color);\n",
              "      border-top-color: var(--fill-color);\n",
              "    }\n",
              "    30% {\n",
              "      border-color: transparent;\n",
              "      border-left-color: var(--fill-color);\n",
              "      border-top-color: var(--fill-color);\n",
              "      border-right-color: var(--fill-color);\n",
              "    }\n",
              "    40% {\n",
              "      border-color: transparent;\n",
              "      border-right-color: var(--fill-color);\n",
              "      border-top-color: var(--fill-color);\n",
              "    }\n",
              "    60% {\n",
              "      border-color: transparent;\n",
              "      border-right-color: var(--fill-color);\n",
              "    }\n",
              "    80% {\n",
              "      border-color: transparent;\n",
              "      border-right-color: var(--fill-color);\n",
              "      border-bottom-color: var(--fill-color);\n",
              "    }\n",
              "    90% {\n",
              "      border-color: transparent;\n",
              "      border-bottom-color: var(--fill-color);\n",
              "    }\n",
              "  }\n",
              "</style>\n",
              "\n",
              "      <script>\n",
              "        async function quickchart(key) {\n",
              "          const quickchartButtonEl =\n",
              "            document.querySelector('#' + key + ' button');\n",
              "          quickchartButtonEl.disabled = true;  // To prevent multiple clicks.\n",
              "          quickchartButtonEl.classList.add('colab-df-spinner');\n",
              "          try {\n",
              "            const charts = await google.colab.kernel.invokeFunction(\n",
              "                'suggestCharts', [key], {});\n",
              "          } catch (error) {\n",
              "            console.error('Error during call to suggestCharts:', error);\n",
              "          }\n",
              "          quickchartButtonEl.classList.remove('colab-df-spinner');\n",
              "          quickchartButtonEl.classList.add('colab-df-quickchart-complete');\n",
              "        }\n",
              "        (() => {\n",
              "          let quickchartButtonEl =\n",
              "            document.querySelector('#df-8570d710-e6f9-4e3f-8b93-d8b02d7ab522 button');\n",
              "          quickchartButtonEl.style.display =\n",
              "            google.colab.kernel.accessAllowed ? 'block' : 'none';\n",
              "        })();\n",
              "      </script>\n",
              "    </div>\n",
              "\n",
              "    </div>\n",
              "  </div>\n"
            ],
            "application/vnd.google.colaboratory.intrinsic+json": {
              "type": "dataframe",
              "variable_name": "df",
              "summary": "{\n  \"name\": \"df\",\n  \"rows\": 42217,\n  \"fields\": [\n    {\n      \"column\": \"Id\",\n      \"properties\": {\n        \"dtype\": \"number\",\n        \"std\": 12187,\n        \"min\": 1,\n        \"max\": 42217,\n        \"num_unique_values\": 42217,\n        \"samples\": [\n          6130,\n          5171,\n          17193\n        ],\n        \"semantic_type\": \"\",\n        \"description\": \"\"\n      }\n    },\n    {\n      \"column\": \"ProductId\",\n      \"properties\": {\n        \"dtype\": \"category\",\n        \"num_unique_values\": 5248,\n        \"samples\": [\n          \"B001FSISXC\",\n          \"B0018CJMIA\",\n          \"B001EO7OEQ\"\n        ],\n        \"semantic_type\": \"\",\n        \"description\": \"\"\n      }\n    },\n    {\n      \"column\": \"UserId\",\n      \"properties\": {\n        \"dtype\": \"string\",\n        \"num_unique_values\": 34708,\n        \"samples\": [\n          \"A34A46JHGUW66V\",\n          \"A3UGSFEDY2DKP5\",\n          \"A2QLCGKPHFODNF\"\n        ],\n        \"semantic_type\": \"\",\n        \"description\": \"\"\n      }\n    },\n    {\n      \"column\": \"ProfileName\",\n      \"properties\": {\n        \"dtype\": \"string\",\n        \"num_unique_values\": 32175,\n        \"samples\": [\n          \"Meghan Donovan\",\n          \"Tre\",\n          \"Carrie Nichols\"\n        ],\n        \"semantic_type\": \"\",\n        \"description\": \"\"\n      }\n    },\n    {\n      \"column\": \"HelpfulnessNumerator\",\n      \"properties\": {\n        \"dtype\": \"number\",\n        \"std\": 5,\n        \"min\": 0,\n        \"max\": 398,\n        \"num_unique_values\": 99,\n        \"samples\": [\n          80,\n          25,\n          206\n        ],\n        \"semantic_type\": \"\",\n        \"description\": \"\"\n      }\n    },\n    {\n      \"column\": \"HelpfulnessDenominator\",\n      \"properties\": {\n        \"dtype\": \"number\",\n        \"std\": 6,\n        \"min\": 0,\n        \"max\": 401,\n        \"num_unique_values\": 108,\n        \"samples\": [\n          44,\n          15,\n          2\n        ],\n        \"semantic_type\": \"\",\n        \"description\": \"\"\n      }\n    },\n    {\n      \"column\": \"Score\",\n      \"properties\": {\n        \"dtype\": \"number\",\n        \"std\": 1,\n        \"min\": 1,\n        \"max\": 5,\n        \"num_unique_values\": 5,\n        \"samples\": [\n          1,\n          3,\n          4\n        ],\n        \"semantic_type\": \"\",\n        \"description\": \"\"\n      }\n    },\n    {\n      \"column\": \"Time\",\n      \"properties\": {\n        \"dtype\": \"number\",\n        \"std\": 47310145,\n        \"min\": 961718400,\n        \"max\": 1351209600,\n        \"num_unique_values\": 2444,\n        \"samples\": [\n          1303603200,\n          1212537600,\n          1189814400\n        ],\n        \"semantic_type\": \"\",\n        \"description\": \"\"\n      }\n    },\n    {\n      \"column\": \"Summary\",\n      \"properties\": {\n        \"dtype\": \"string\",\n        \"num_unique_values\": 33432,\n        \"samples\": [\n          \"Love these seeds!\",\n          \"A BIG Hit\",\n          \"Quick delivery! This Chai is my favourite :)\"\n        ],\n        \"semantic_type\": \"\",\n        \"description\": \"\"\n      }\n    },\n    {\n      \"column\": \"Text\",\n      \"properties\": {\n        \"dtype\": \"string\",\n        \"num_unique_values\": 39402,\n        \"samples\": [\n          \"These biscuits are a favorite of both of my dogs.  The price is great!\",\n          \"This salmon has a very nice Mediterranean flavor without being too spicy.  The package size is great and convenient to make 1-2 sandwiches out of each bag or take it to go and eat it for lunch with bread or some dish.  The taste is very good--as if it is freshly prepared salmon.\",\n          \"We have been using these treats for a very long time, decades, and find they are accepted by almost any of our pets: dog, cat or ferret. They are their reward for taking their meds nicely. We prefer the largest size tubs for economy and convenience, which are usually not available at the pet stores. Thank you for carrying these.\"\n        ],\n        \"semantic_type\": \"\",\n        \"description\": \"\"\n      }\n    }\n  ]\n}"
            }
          },
          "metadata": {},
          "execution_count": 3
        }
      ]
    },
    {
      "cell_type": "markdown",
      "source": [
        "**Preprocess text**"
      ],
      "metadata": {
        "id": "vot8c9rHmXB2"
      }
    },
    {
      "cell_type": "code",
      "source": [
        "df = df[['Text']].dropna()"
      ],
      "metadata": {
        "id": "BBAWcYb_58dd"
      },
      "execution_count": 4,
      "outputs": []
    },
    {
      "cell_type": "code",
      "source": [
        "stop_words = stopwords.words('english')\n",
        "nlp = spacy.load('en_core_web_sm', disable=['parser', 'ner'])"
      ],
      "metadata": {
        "id": "Js4o7h4t7CtC"
      },
      "execution_count": 5,
      "outputs": []
    },
    {
      "cell_type": "code",
      "source": [
        "# Tokenize and remove stopwords\n",
        "def preprocess(text):\n",
        "    result = []\n",
        "    for token in simple_preprocess(text):\n",
        "        if token not in stop_words and len(token) > 3:\n",
        "            result.append(token)\n",
        "    return result\n",
        "\n",
        "df['tokens'] = df['Text'].apply(preprocess)\n",
        "\n",
        "# Lemmatize\n",
        "def lemmatization(texts):\n",
        "    output = []\n",
        "    for doc in nlp.pipe([' '.join(tokens) for tokens in texts]):\n",
        "        output.append([token.lemma_ for token in doc])\n",
        "    return output\n",
        "\n",
        "df['lemmatized'] = lemmatization(df['tokens'])"
      ],
      "metadata": {
        "id": "9Lps_Yk07RVf"
      },
      "execution_count": 6,
      "outputs": []
    },
    {
      "cell_type": "code",
      "source": [
        "# Create dictionary\n",
        "id2word = Dictionary(df['lemmatized'])\n",
        "\n",
        "# Filter extremes (optional)\n",
        "id2word.filter_extremes(no_below=5, no_above=0.5)\n",
        "\n",
        "# Create corpus\n",
        "corpus = [id2word.doc2bow(text) for text in df['lemmatized']]\n"
      ],
      "metadata": {
        "id": "2Vxm_yPF7Xfj"
      },
      "execution_count": 7,
      "outputs": []
    },
    {
      "cell_type": "code",
      "source": [
        "lda_model = LdaModel(\n",
        "    corpus=corpus,\n",
        "    id2word=id2word,\n",
        "    num_topics=5,\n",
        "    random_state=42,\n",
        "    passes=10,\n",
        "    per_word_topics=True\n",
        ")\n",
        "\n",
        "# Print topics\n",
        "topics = lda_model.print_topics()\n",
        "for topic in topics:\n",
        "    print(topic)\n"
      ],
      "metadata": {
        "colab": {
          "base_uri": "https://localhost:8080/"
        },
        "id": "24UWaLS07iet",
        "outputId": "0cabcd6d-b9be-4642-d7ac-c8189f5dba9f"
      },
      "execution_count": 8,
      "outputs": [
        {
          "output_type": "stream",
          "name": "stdout",
          "text": [
            "(0, '0.039*\"coffee\" + 0.030*\"taste\" + 0.027*\"flavor\" + 0.023*\"like\" + 0.018*\"good\" + 0.014*\"chocolate\" + 0.012*\"drink\" + 0.011*\"make\" + 0.011*\"well\" + 0.010*\"try\"')\n",
            "(1, '0.022*\"taste\" + 0.022*\"like\" + 0.018*\"good\" + 0.017*\"flavor\" + 0.014*\"make\" + 0.012*\"great\" + 0.011*\"well\" + 0.010*\"love\" + 0.009*\"salt\" + 0.008*\"chip\"')\n",
            "(2, '0.028*\"amazon\" + 0.026*\"product\" + 0.023*\"order\" + 0.021*\"price\" + 0.019*\"find\" + 0.017*\"store\" + 0.014*\"good\" + 0.012*\"great\" + 0.012*\"buy\" + 0.011*\"purchase\"')\n",
            "(3, '0.027*\"food\" + 0.021*\"treat\" + 0.014*\"love\" + 0.012*\"like\" + 0.011*\"give\" + 0.010*\"dog\" + 0.008*\"would\" + 0.008*\"make\" + 0.007*\"cat\" + 0.007*\"time\"')\n",
            "(4, '0.016*\"product\" + 0.014*\"sugar\" + 0.012*\"taste\" + 0.011*\"water\" + 0.010*\"like\" + 0.010*\"drink\" + 0.009*\"make\" + 0.008*\"milk\" + 0.008*\"ingredient\" + 0.008*\"syrup\"')\n"
          ]
        }
      ]
    },
    {
      "cell_type": "markdown",
      "source": [
        "**LDA**"
      ],
      "metadata": {
        "id": "Hr6dGqrTmj1-"
      }
    },
    {
      "cell_type": "code",
      "source": [
        "pyLDAvis.enable_notebook()\n",
        "vis = pyLDAvis.gensim_models.prepare(lda_model, corpus, id2word)\n",
        "pyLDAvis.display(vis)"
      ],
      "metadata": {
        "colab": {
          "base_uri": "https://localhost:8080/",
          "height": 882
        },
        "id": "LRlM2sYO75Y4",
        "outputId": "737355f2-37df-48d5-b046-528e94e909b0"
      },
      "execution_count": 10,
      "outputs": [
        {
          "output_type": "execute_result",
          "data": {
            "text/plain": [
              "<IPython.core.display.HTML object>"
            ],
            "text/html": [
              "\n",
              "<link rel=\"stylesheet\" type=\"text/css\" href=\"https://cdn.jsdelivr.net/gh/bmabey/pyLDAvis@3.4.0/pyLDAvis/js/ldavis.v1.0.0.css\">\n",
              "\n",
              "\n",
              "<div id=\"ldavis_el5531382756417131369691795472\" style=\"background-color:white;\"></div>\n",
              "<script type=\"text/javascript\">\n",
              "\n",
              "var ldavis_el5531382756417131369691795472_data = {\"mdsDat\": {\"x\": [-0.058458096605396, 0.06348790300840934, 0.22314461017100895, -0.04638857465207431, -0.18178584192194794], \"y\": [-0.09178803398688984, 0.06522952220938039, 0.046731635285118825, -0.17431769926104201, 0.15414457575343266], \"topics\": [1, 2, 3, 4, 5], \"cluster\": [1, 1, 1, 1, 1], \"Freq\": [26.778286513096333, 21.067313837931916, 18.770014192134227, 17.183840432267477, 16.200545024570044]}, \"tinfo\": {\"Term\": [\"coffee\", \"amazon\", \"taste\", \"treat\", \"flavor\", \"food\", \"order\", \"price\", \"store\", \"product\", \"drink\", \"chocolate\", \"sugar\", \"dog\", \"salt\", \"chip\", \"popcorn\", \"water\", \"green\", \"like\", \"local\", \"sauce\", \"find\", \"cat\", \"snack\", \"syrup\", \"item\", \"purchase\", \"milk\", \"cookie\", \"salt\", \"chip\", \"popcorn\", \"sauce\", \"snack\", \"cookie\", \"texture\", \"noodle\", \"cook\", \"bread\", \"gluten\", \"cheese\", \"butter\", \"bake\", \"pepper\", \"soup\", \"pasta\", \"peanut\", \"bar\", \"spicy\", \"salty\", \"oatmeal\", \"vinegar\", \"tomato\", \"salad\", \"cracker\", \"garlic\", \"crunchy\", \"chili\", \"microwave\", \"flour\", \"potato\", \"rice\", \"dish\", \"calorie\", \"taste\", \"recipe\", \"flavor\", \"like\", \"good\", \"make\", \"great\", \"sweet\", \"well\", \"really\", \"love\", \"try\", \"little\", \"delicious\", \"use\", \"would\", \"free\", \"product\", \"much\", \"treat\", \"dog\", \"cat\", \"chew\", \"feed\", \"critter\", \"pill\", \"squirrel\", \"sprout\", \"bone\", \"puppy\", \"breast\", \"ridder\", \"sick\", \"greenie\", \"turkey\", \"breath\", \"nest\", \"ball\", \"animal\", \"play\", \"dental\", \"swallow\", \"pocket\", \"walk\", \"fishy\", \"liver\", \"skunk\", \"kitty\", \"bird\", \"formula\", \"baby\", \"tooth\", \"food\", \"clean\", \"smell\", \"help\", \"give\", \"chicken\", \"piece\", \"work\", \"problem\", \"seem\", \"take\", \"love\", \"get\", \"start\", \"small\", \"keep\", \"away\", \"eat\", \"would\", \"like\", \"time\", \"year\", \"go\", \"little\", \"make\", \"product\", \"well\", \"good\", \"really\", \"look\", \"try\", \"great\", \"even\", \"store\", \"local\", \"shipping\", \"grocery\", \"arrive\", \"ship\", \"seller\", \"send\", \"online\", \"service\", \"customer\", \"delivery\", \"subscribe\", \"expiration\", \"pizza\", \"shipment\", \"condition\", \"locally\", \"charge\", \"date\", \"refund\", \"subscription\", \"expire\", \"amazon\", \"prime\", \"discount\", \"walmart\", \"vendor\", \"mail\", \"sardine\", \"receive\", \"item\", \"order\", \"return\", \"pay\", \"price\", \"sell\", \"thank\", \"save\", \"stock\", \"purchase\", \"gift\", \"carry\", \"cost\", \"case\", \"find\", \"product\", \"buy\", \"box\", \"pack\", \"can\", \"bag\", \"package\", \"time\", \"great\", \"quality\", \"good\", \"love\", \"happy\", \"well\", \"would\", \"come\", \"year\", \"go\", \"coffee\", \"tea\", \"cup\", \"brew\", \"bitter\", \"smooth\", \"roast\", \"machine\", \"starbuck\", \"decaf\", \"bold\", \"french\", \"espresso\", \"aroma\", \"keurig\", \"licorice\", \"herbal\", \"stash\", \"drinker\", \"weak\", \"iced\", \"jasmine\", \"donut\", \"cafe\", \"grey\", \"grind\", \"chamomile\", \"nespresso\", \"peppermint\", \"drip\", \"blend\", \"popper\", \"cocoa\", \"mint\", \"dark\", \"caffeine\", \"vanilla\", \"strong\", \"green\", \"bean\", \"chocolate\", \"black\", \"flavor\", \"drink\", \"taste\", \"morning\", \"like\", \"good\", \"rich\", \"favorite\", \"try\", \"make\", \"well\", \"enjoy\", \"great\", \"brand\", \"love\", \"really\", \"find\", \"would\", \"syrup\", \"juice\", \"soda\", \"orange\", \"chai\", \"dent\", \"plant\", \"vitamin\", \"tree\", \"stevia\", \"glass\", \"tray\", \"cherry\", \"extract\", \"blood\", \"matcha\", \"picture\", \"pen\", \"trap\", \"berry\", \"pink\", \"maple\", \"leaf\", \"grape\", \"pressure\", \"flower\", \"information\", \"email\", \"marker\", \"s\", \"granule\", \"artificial\", \"sugar\", \"coconut\", \"strawberry\", \"label\", \"water\", \"seed\", \"color\", \"contain\", \"list\", \"natural\", \"milk\", \"bottle\", \"organic\", \"ingredient\", \"powder\", \"fruit\", \"drink\", \"product\", \"add\", \"taste\", \"use\", \"make\", \"like\", \"also\", \"high\", \"flavor\", \"well\", \"sweet\", \"would\", \"good\", \"much\"], \"Freq\": [9503.0, 7562.0, 18319.0, 6174.0, 14573.0, 9665.0, 6577.0, 6134.0, 4628.0, 14801.0, 5210.0, 5011.0, 3864.0, 3008.0, 3442.0, 3170.0, 2896.0, 3655.0, 2907.0, 20301.0, 2071.0, 2609.0, 9696.0, 2181.0, 2513.0, 1746.0, 1955.0, 3918.0, 3116.0, 2209.0, 3442.1330517464876, 3169.4530460521078, 2896.132060971704, 2608.7465802303363, 2512.768165394091, 2208.3761765331988, 2116.1444829305356, 1900.5566328877524, 1882.6462609106447, 1842.2922594985441, 1678.9621373186317, 1454.6961003613542, 1359.6651282179105, 1321.0114071094465, 1352.8742400901756, 1295.6382037093463, 1110.965920387022, 1116.0929615288226, 1089.6030284221881, 961.9984648458827, 904.6592154342732, 863.688053027867, 656.5832114118853, 617.8699443241252, 599.405574198899, 562.2622037741834, 542.2586362463497, 535.7364107555728, 519.9048109697618, 503.702923408994, 2122.8755604301773, 1495.4467221037005, 1758.132530633007, 851.3986450637889, 1820.282124792827, 8278.56158537677, 1055.103411261958, 6492.959921088703, 8153.944465635821, 6991.5144991277475, 5139.019499212195, 4730.789202680491, 2206.4842905006267, 4048.2433708897393, 2993.2851636009987, 3661.9312877149723, 2857.9490618566097, 2347.2183455385475, 1717.0061075991027, 2064.5575515514693, 2215.765700239458, 1736.647282707753, 1940.7820149845734, 1775.5568309865264, 6173.494704232186, 3007.288441675573, 2180.183299218025, 1846.817045924161, 1162.14260770303, 668.5384287718247, 564.0619334720112, 619.4697581245936, 525.3571366094625, 506.10887661396066, 494.0026880269776, 449.79135882783027, 501.7116042699997, 410.65973665371797, 400.2085892382565, 397.4327672608095, 384.5423652416291, 403.12005838179306, 372.7076097918046, 354.59061037817065, 333.98303321969564, 327.99942816900136, 325.71469820856646, 325.1667655525022, 299.7170460911845, 287.65605587560884, 269.43637547848573, 274.85681402662993, 266.51923268141735, 276.7113873559963, 1405.049794746258, 1433.6125281811578, 1294.6819303045415, 7932.887793584622, 717.7184904150005, 1890.6225093636297, 1297.900956581118, 3388.8502822964288, 1374.7561632186105, 1004.3861680843808, 2151.870414745991, 1333.544409623655, 1624.476731479208, 1947.1162747723154, 4196.24664453817, 1467.3228442760048, 1199.9882017432767, 1471.8526059727749, 1500.615912602865, 1062.3340544569496, 1377.673566275015, 2452.897189921269, 3673.3394158145925, 2156.179337720583, 1519.6739750753845, 1474.8964603653858, 1680.7105151615333, 2291.400650133487, 2124.2782057268482, 1963.2323657070817, 1993.4968481890614, 1473.3410117665624, 1409.5044629491886, 1442.4298368856967, 1442.0449306779028, 1410.8551742034408, 4627.441741100694, 2070.8548232144844, 1662.5283269022955, 1619.3568758538506, 1495.7764036506442, 1300.0099024898323, 837.746763282447, 904.4565480455869, 827.7625405105475, 694.9247713029756, 692.7229702881442, 613.2525342155024, 559.6336585471996, 472.868025248392, 481.91289000757484, 456.7571526435609, 463.2433697900525, 380.4293596252127, 369.3442363458975, 926.9416556120674, 337.38513295297594, 325.79970715706327, 274.21929680990866, 7533.353590955744, 213.0331059695847, 208.14781359209155, 206.2739670294172, 172.52013424969408, 169.9048462828805, 164.4599676120271, 1763.872513356694, 1913.100306783382, 6171.939113814811, 731.837710558701, 640.3880250925431, 5657.20295309004, 1351.411147524684, 1335.6817007106863, 1255.6073275870485, 589.0410707027996, 2873.0243331466595, 884.4437672027642, 708.0383736401303, 1182.2423630489902, 1244.210867863404, 5056.139967224789, 6891.053953911574, 3119.950553989483, 1006.3758566983383, 2026.319056911287, 1742.9420474750848, 1601.8470916207607, 1768.7981217941085, 2638.522384217677, 3263.0364553918735, 1500.1155741857706, 3798.3963831375045, 2783.529110904406, 1246.5260732553756, 2281.769280042825, 2081.4820624083463, 1564.7481543462584, 1498.7664702051597, 1308.090180781624, 9503.16051870779, 1478.3777789009853, 1300.0075413562827, 1258.9350479418017, 1197.3902194742898, 1173.444124679097, 1016.2924431137207, 981.2605916809645, 789.7739164891352, 729.4011224669283, 687.0265069354213, 688.727156993664, 669.3228655012769, 649.0038844528985, 640.6068894096481, 644.732163082983, 571.442308602423, 510.34848469566003, 470.16594266809193, 421.6424202844657, 349.8731989796104, 340.9729774969501, 327.86242719440975, 321.7232571044908, 308.20693289816626, 315.1735296433114, 296.78641845088885, 306.2675057296888, 278.97923900474376, 275.00989504931806, 1665.4904967197972, 388.56080835495567, 670.1034481406854, 739.6820677777482, 1554.4799726030853, 872.0857868934814, 1028.5988047894255, 1868.5562200946108, 2392.7823647705704, 1266.3088338177952, 3391.648267909274, 1226.2105827141577, 6576.5624306757345, 2969.6137448144623, 7280.455160887002, 1186.2520428262762, 5667.536047303767, 4476.121822238919, 864.8851115919541, 1610.5614585128112, 2418.941195384836, 2670.6380833137623, 2568.6876164243167, 1412.0743909535488, 2249.3410633465314, 1477.6709578961515, 2091.6802396926178, 1628.921369041064, 1563.6052434934595, 1341.749040908448, 1745.9265689619785, 1490.3772744778537, 810.0175107316214, 755.9800091950734, 761.758143103106, 659.9277259207167, 674.5667930360048, 633.907710756307, 621.8377053217955, 557.9660724196323, 505.04512030293864, 467.6750048292225, 440.4232415487797, 431.2658658314825, 431.2845452587063, 424.5550414372699, 417.6215582705496, 511.28463606339886, 466.8187932550758, 352.5654628881255, 325.858738609177, 688.7957132992503, 313.805571344063, 281.7066034386296, 282.13348172048535, 272.4919352495474, 267.3176004840761, 278.78570140364474, 333.58913951105643, 259.3905318984261, 304.04383610138797, 764.7173379638996, 3209.73379919837, 1016.0401185047846, 374.97365068943833, 748.9044022720761, 2559.204920619162, 762.2524541172396, 1109.3835646129387, 1006.1716169930775, 1106.9861935532447, 1299.500426625872, 1908.0492672019075, 1129.2441720747822, 1520.7515174979221, 1753.2386574336292, 921.7279039310124, 921.0686802593887, 2240.398332909368, 3683.4681967398233, 1082.3468549096337, 2700.0172743655125, 1662.5036065430058, 2076.483690530965, 2253.400922090476, 1322.144909181566, 1013.7949580920686, 1503.3847736798314, 1419.358625870906, 1062.0883222781313, 1225.285567911557, 1166.8647519826734, 898.013784002692], \"Total\": [9503.0, 7562.0, 18319.0, 6174.0, 14573.0, 9665.0, 6577.0, 6134.0, 4628.0, 14801.0, 5210.0, 5011.0, 3864.0, 3008.0, 3442.0, 3170.0, 2896.0, 3655.0, 2907.0, 20301.0, 2071.0, 2609.0, 9696.0, 2181.0, 2513.0, 1746.0, 1955.0, 3918.0, 3116.0, 2209.0, 3442.9589118172735, 3170.2720028636772, 2896.9679223711837, 2609.571404703867, 2513.5961445310063, 2209.2030940038053, 2116.9720208691124, 1901.3875635687643, 1883.475182681078, 1843.1161707467306, 1679.7883700451614, 1455.528269832026, 1360.4895119862217, 1321.837482907566, 1353.7247578267559, 1296.4640873763756, 1111.788609972902, 1116.920128598199, 1090.431794533515, 962.8297058049773, 905.4797357545934, 864.5140917370932, 657.4076096670042, 618.7076449273147, 600.246769962356, 563.0854301629107, 543.0817979322359, 536.5577958319107, 520.725134903933, 504.52750950027007, 2143.2477306349692, 1544.9780345798465, 1921.6224238525408, 904.9853890132141, 2348.044645834159, 18319.844342002838, 1252.7422023564266, 14573.289309249882, 20301.05321481695, 18426.394304675905, 13295.849322318223, 11720.794439919055, 3631.8733827574342, 12281.291258934867, 7242.960411291931, 12733.598488447054, 7688.229406224663, 5998.034296414291, 3031.539779187903, 6736.114939699586, 9317.179561389077, 3478.5751875978804, 14801.968793858336, 6314.5106724311445, 6174.335089106992, 3008.1170966775117, 2181.0142010910217, 1847.6490431779127, 1162.9768747776561, 669.4181878094004, 564.8955137879022, 620.3986626490241, 526.2141896210501, 506.94321562016813, 494.8302143764548, 450.6408640990968, 502.7068052303659, 411.50831513176735, 401.04166106565543, 398.2780111075881, 385.3732921116359, 404.01321926464084, 373.5489132734472, 355.4377265656463, 334.81831226301824, 328.82972207683366, 326.55220479002975, 326.00704310729463, 300.55113650738565, 288.5136219985716, 270.2765263817691, 275.7157402585147, 267.3525299456069, 277.6078707602791, 1425.3288362027818, 1490.3801582086305, 1343.746515805419, 9665.262229788987, 842.2307549445295, 3061.462912048202, 1908.94389096884, 6645.2302258441305, 2134.3161531367055, 1485.7150893231994, 4455.357215314754, 2314.1755176305883, 3095.672913979421, 4062.6708187308777, 12733.598488447054, 2868.3065479325437, 2209.9495710005795, 3064.4965466532235, 3229.7678484018834, 1866.8977914584998, 3002.7844962752265, 9317.179561389077, 20301.05321481695, 7329.156947910183, 4205.49103228831, 4160.285453109367, 5998.034296414291, 13295.849322318223, 14801.968793858336, 12281.291258934867, 18426.394304675905, 7242.960411291931, 4861.681044597328, 7688.229406224663, 11720.794439919055, 5247.05026433025, 4628.291746815881, 2071.7033548665568, 1663.371051146868, 1620.204145914001, 1496.6309986668537, 1300.8538581722887, 838.5930702919393, 905.3831000938698, 828.6153542277953, 695.7659333571169, 693.5828794284788, 614.0973883197607, 560.4790118769141, 473.71912434128916, 482.7856951754374, 457.6014013689788, 464.1553778757304, 381.2738023550651, 370.1902372408075, 929.196836578262, 338.23025897344144, 326.6470040248389, 275.0615690043012, 7562.741051737977, 213.8758731519294, 208.99237569442818, 207.11662259601673, 173.36129311659008, 170.74964535495718, 165.31308743973614, 1796.054441280318, 1955.1952332357582, 6577.538095580655, 748.0554232092161, 657.6750887400066, 6134.815724916649, 1428.343474589135, 1475.574407162024, 1406.4522896859717, 625.1709108783374, 3918.288809178007, 1014.9629927544435, 779.8307349851449, 1475.2773336087919, 1607.0390511495114, 9696.469066899966, 14801.968793858336, 5513.753409467479, 1235.697821388668, 3344.5332245403088, 2867.465281077369, 2588.991087630598, 3551.6851212911406, 7329.156947910183, 11720.794439919055, 2727.0258017130363, 18426.394304675905, 12733.598488447054, 2015.2813817254998, 12281.291258934867, 9317.179561389077, 4610.19391169347, 4205.49103228831, 4160.285453109367, 9503.944157778758, 1479.1663124488728, 1300.797858805238, 1259.7196862431424, 1198.1822172136028, 1174.2340497243051, 1017.0775319497133, 982.0628640488756, 790.5594550267509, 730.184657050677, 687.8107685235326, 689.5192124521975, 670.1061914112624, 649.7945251778704, 641.389420550435, 645.5281295484766, 572.2370444922947, 511.14377257313004, 470.95246685915015, 422.4290459360062, 350.6632925541001, 341.7738757855597, 328.64969238002504, 322.5111630250106, 308.99323022954894, 315.9952373654705, 297.57740317013105, 307.0961503339557, 279.77413138005255, 275.8093784940258, 1680.877501208445, 389.7529480710821, 693.700585726023, 771.7341601598745, 1700.5157328761284, 942.2201777270251, 1127.5169963022165, 2186.814973624455, 2907.688107263094, 1533.1166132088313, 5011.52477394391, 1591.385919323389, 14573.289309249882, 5210.592538432842, 18319.844342002838, 1654.674426504888, 20301.05321481695, 18426.394304675905, 1099.2500403627284, 3547.7744662376685, 7688.229406224663, 13295.849322318223, 12281.291258934867, 3465.3123760657872, 11720.794439919055, 4485.677924419912, 12733.598488447054, 7242.960411291931, 9696.469066899966, 9317.179561389077, 1746.7451659689452, 1491.1965176297329, 810.8368259030644, 756.8044354805758, 762.6080368113741, 660.7673323550769, 675.42991541957, 634.7265352720397, 622.6812965515611, 558.7865457236813, 505.87066692564355, 468.5131755354862, 441.24925756381043, 432.08674564335945, 432.10645516113186, 425.3909757968572, 418.4458853448359, 512.3662465702312, 467.84226951987586, 353.38383008695075, 326.6862022828429, 690.5617546847308, 314.65512502578105, 282.5238027634014, 282.9632358903914, 273.31304118790837, 268.1419487579356, 279.6459709744491, 334.6323882516552, 260.21800202679975, 305.16370077785285, 803.4145100249241, 3864.2278948713474, 1145.0122395145595, 387.4079155178508, 846.0072811312792, 3655.4980129854907, 890.199458405404, 1419.0817598901392, 1328.4802264890131, 1517.103590513464, 1890.5719352170595, 3116.4239357953884, 1664.0544179838726, 2541.489485010393, 3129.8627404258646, 1261.5650921842794, 1306.3781545577006, 5210.592538432842, 14801.968793858336, 2524.5112987796365, 18319.844342002838, 6736.114939699586, 13295.849322318223, 20301.05321481695, 5876.82659589223, 2783.6585016514227, 14573.289309249882, 12281.291258934867, 3631.8733827574342, 9317.179561389077, 18426.394304675905, 6314.5106724311445], \"Category\": [\"Default\", \"Default\", \"Default\", \"Default\", \"Default\", \"Default\", \"Default\", \"Default\", \"Default\", \"Default\", \"Default\", \"Default\", \"Default\", \"Default\", \"Default\", \"Default\", \"Default\", \"Default\", \"Default\", \"Default\", \"Default\", \"Default\", \"Default\", \"Default\", \"Default\", \"Default\", \"Default\", \"Default\", \"Default\", \"Default\", \"Topic1\", \"Topic1\", \"Topic1\", \"Topic1\", \"Topic1\", \"Topic1\", \"Topic1\", \"Topic1\", \"Topic1\", \"Topic1\", \"Topic1\", \"Topic1\", \"Topic1\", \"Topic1\", \"Topic1\", \"Topic1\", \"Topic1\", \"Topic1\", \"Topic1\", \"Topic1\", \"Topic1\", \"Topic1\", \"Topic1\", \"Topic1\", \"Topic1\", \"Topic1\", \"Topic1\", \"Topic1\", \"Topic1\", \"Topic1\", \"Topic1\", \"Topic1\", \"Topic1\", \"Topic1\", \"Topic1\", \"Topic1\", \"Topic1\", \"Topic1\", \"Topic1\", \"Topic1\", \"Topic1\", \"Topic1\", \"Topic1\", \"Topic1\", \"Topic1\", \"Topic1\", \"Topic1\", \"Topic1\", \"Topic1\", \"Topic1\", \"Topic1\", \"Topic1\", \"Topic1\", \"Topic1\", \"Topic2\", \"Topic2\", \"Topic2\", \"Topic2\", \"Topic2\", \"Topic2\", \"Topic2\", \"Topic2\", \"Topic2\", \"Topic2\", \"Topic2\", \"Topic2\", \"Topic2\", \"Topic2\", \"Topic2\", \"Topic2\", \"Topic2\", \"Topic2\", \"Topic2\", \"Topic2\", \"Topic2\", \"Topic2\", \"Topic2\", \"Topic2\", \"Topic2\", \"Topic2\", \"Topic2\", \"Topic2\", \"Topic2\", \"Topic2\", \"Topic2\", \"Topic2\", \"Topic2\", \"Topic2\", \"Topic2\", \"Topic2\", \"Topic2\", \"Topic2\", \"Topic2\", \"Topic2\", \"Topic2\", \"Topic2\", \"Topic2\", \"Topic2\", \"Topic2\", \"Topic2\", \"Topic2\", \"Topic2\", \"Topic2\", \"Topic2\", \"Topic2\", \"Topic2\", \"Topic2\", \"Topic2\", \"Topic2\", \"Topic2\", \"Topic2\", \"Topic2\", \"Topic2\", \"Topic2\", \"Topic2\", \"Topic2\", \"Topic2\", \"Topic2\", \"Topic2\", \"Topic2\", \"Topic3\", \"Topic3\", \"Topic3\", \"Topic3\", \"Topic3\", \"Topic3\", \"Topic3\", \"Topic3\", \"Topic3\", \"Topic3\", \"Topic3\", \"Topic3\", \"Topic3\", \"Topic3\", \"Topic3\", \"Topic3\", \"Topic3\", \"Topic3\", \"Topic3\", \"Topic3\", \"Topic3\", \"Topic3\", \"Topic3\", \"Topic3\", \"Topic3\", \"Topic3\", \"Topic3\", \"Topic3\", \"Topic3\", \"Topic3\", \"Topic3\", \"Topic3\", \"Topic3\", \"Topic3\", \"Topic3\", \"Topic3\", \"Topic3\", \"Topic3\", \"Topic3\", \"Topic3\", \"Topic3\", \"Topic3\", \"Topic3\", \"Topic3\", \"Topic3\", \"Topic3\", \"Topic3\", \"Topic3\", \"Topic3\", \"Topic3\", \"Topic3\", \"Topic3\", \"Topic3\", \"Topic3\", \"Topic3\", \"Topic3\", \"Topic3\", \"Topic3\", \"Topic3\", \"Topic3\", \"Topic3\", \"Topic3\", \"Topic3\", \"Topic3\", \"Topic4\", \"Topic4\", \"Topic4\", \"Topic4\", \"Topic4\", \"Topic4\", \"Topic4\", \"Topic4\", \"Topic4\", \"Topic4\", \"Topic4\", \"Topic4\", \"Topic4\", \"Topic4\", \"Topic4\", \"Topic4\", \"Topic4\", \"Topic4\", \"Topic4\", \"Topic4\", \"Topic4\", \"Topic4\", \"Topic4\", \"Topic4\", \"Topic4\", \"Topic4\", \"Topic4\", \"Topic4\", \"Topic4\", \"Topic4\", \"Topic4\", \"Topic4\", \"Topic4\", \"Topic4\", \"Topic4\", \"Topic4\", \"Topic4\", \"Topic4\", \"Topic4\", \"Topic4\", \"Topic4\", \"Topic4\", \"Topic4\", \"Topic4\", \"Topic4\", \"Topic4\", \"Topic4\", \"Topic4\", \"Topic4\", \"Topic4\", \"Topic4\", \"Topic4\", \"Topic4\", \"Topic4\", \"Topic4\", \"Topic4\", \"Topic4\", \"Topic4\", \"Topic4\", \"Topic4\", \"Topic5\", \"Topic5\", \"Topic5\", \"Topic5\", \"Topic5\", \"Topic5\", \"Topic5\", \"Topic5\", \"Topic5\", \"Topic5\", \"Topic5\", \"Topic5\", \"Topic5\", \"Topic5\", \"Topic5\", \"Topic5\", \"Topic5\", \"Topic5\", \"Topic5\", \"Topic5\", \"Topic5\", \"Topic5\", \"Topic5\", \"Topic5\", \"Topic5\", \"Topic5\", \"Topic5\", \"Topic5\", \"Topic5\", \"Topic5\", \"Topic5\", \"Topic5\", \"Topic5\", \"Topic5\", \"Topic5\", \"Topic5\", \"Topic5\", \"Topic5\", \"Topic5\", \"Topic5\", \"Topic5\", \"Topic5\", \"Topic5\", \"Topic5\", \"Topic5\", \"Topic5\", \"Topic5\", \"Topic5\", \"Topic5\", \"Topic5\", \"Topic5\", \"Topic5\", \"Topic5\", \"Topic5\", \"Topic5\", \"Topic5\", \"Topic5\", \"Topic5\", \"Topic5\", \"Topic5\", \"Topic5\", \"Topic5\", \"Topic5\"], \"logprob\": [30.0, 29.0, 28.0, 27.0, 26.0, 25.0, 24.0, 23.0, 22.0, 21.0, 20.0, 19.0, 18.0, 17.0, 16.0, 15.0, 14.0, 13.0, 12.0, 11.0, 10.0, 9.0, 8.0, 7.0, 6.0, 5.0, 4.0, 3.0, 2.0, 1.0, -4.7011, -4.7837, -4.8739, -4.9784, -5.0159, -5.145, -5.1876, -5.2951, -5.3046, -5.3262, -5.4191, -5.5624, -5.63, -5.6588, -5.635, -5.6782, -5.832, -5.8274, -5.8514, -5.976, -6.0374, -6.0838, -6.3579, -6.4187, -6.4491, -6.513, -6.5492, -6.5613, -6.5913, -6.623, -5.1845, -5.5348, -5.373, -6.0981, -5.3382, -3.8236, -5.8836, -4.0665, -3.8387, -3.9925, -4.3004, -4.3831, -5.1458, -4.539, -4.8409, -4.6392, -4.8871, -5.084, -5.3967, -5.2123, -5.1416, -5.3853, -5.2741, -5.3631, -3.8771, -4.5963, -4.918, -5.0839, -5.5471, -6.1, -6.27, -6.1763, -6.341, -6.3784, -6.4026, -6.4963, -6.3871, -6.5874, -6.6131, -6.6201, -6.6531, -6.6059, -6.6843, -6.7342, -6.794, -6.8121, -6.8191, -6.8208, -6.9023, -6.9434, -7.0088, -6.9889, -7.0197, -6.9821, -5.3573, -5.3372, -5.4391, -3.6263, -6.029, -5.0605, -5.4366, -4.4769, -5.3791, -5.693, -4.931, -5.4095, -5.2122, -5.031, -4.2632, -5.3139, -5.5151, -5.3108, -5.2915, -5.6369, -5.377, -4.8001, -4.3963, -4.929, -5.2789, -5.3088, -5.1782, -4.8682, -4.9439, -5.0228, -5.0075, -5.3098, -5.3541, -5.331, -5.3313, -5.3532, -4.0499, -4.8539, -5.0736, -5.0999, -5.1793, -5.3195, -5.7589, -5.6823, -5.7709, -5.9459, -5.949, -6.0709, -6.1624, -6.3308, -6.3119, -6.3655, -6.3514, -6.5484, -6.5779, -5.6578, -6.6684, -6.7034, -6.8757, -3.5626, -7.1282, -7.1514, -7.1605, -7.3391, -7.3544, -7.387, -5.0144, -4.9332, -3.7619, -5.8941, -6.0276, -3.849, -5.2808, -5.2925, -5.3543, -6.1112, -4.5265, -5.7047, -5.9272, -5.4145, -5.3634, -3.9613, -3.6517, -4.4441, -5.5755, -4.8757, -5.0263, -5.1107, -5.0116, -4.6117, -4.3992, -5.1764, -4.2473, -4.5582, -5.3615, -4.757, -4.8488, -5.1342, -5.1773, -5.3133, -3.242, -5.1027, -5.2312, -5.2633, -5.3135, -5.3337, -5.4775, -5.5125, -5.7296, -5.8091, -5.869, -5.8665, -5.8951, -5.9259, -5.939, -5.9325, -6.0532, -6.1663, -6.2483, -6.3572, -6.5438, -6.5696, -6.6088, -6.6277, -6.6706, -6.6482, -6.7084, -6.6769, -6.7702, -6.7846, -4.9835, -6.4389, -5.8939, -5.7951, -5.0525, -5.6305, -5.4654, -4.8684, -4.6212, -5.2575, -4.2723, -5.2897, -3.6101, -4.4052, -3.5084, -5.3228, -3.7589, -3.9949, -5.6388, -5.017, -4.6103, -4.5113, -4.5502, -5.1486, -4.683, -5.1031, -4.7556, -5.0057, -5.0466, -5.1996, -4.8774, -5.0357, -5.6454, -5.7144, -5.7068, -5.8503, -5.8284, -5.8905, -5.9098, -6.0181, -6.1178, -6.1947, -6.2547, -6.2757, -6.2757, -6.2914, -6.3079, -6.1055, -6.1965, -6.4772, -6.556, -5.8075, -6.5937, -6.7016, -6.7001, -6.7348, -6.754, -6.712, -6.5325, -6.7841, -6.6253, -5.7029, -4.2685, -5.4188, -6.4156, -5.7238, -4.495, -5.7062, -5.3309, -5.4285, -5.333, -5.1727, -4.7886, -5.3131, -5.0155, -4.8732, -5.5162, -5.5169, -4.628, -4.1308, -5.3556, -4.4414, -4.9264, -4.704, -4.6222, -5.1554, -5.421, -5.027, -5.0845, -5.3745, -5.2315, -5.2804, -5.5423], \"loglift\": [30.0, 29.0, 28.0, 27.0, 26.0, 25.0, 24.0, 23.0, 22.0, 21.0, 20.0, 19.0, 18.0, 17.0, 16.0, 15.0, 14.0, 13.0, 12.0, 11.0, 10.0, 9.0, 8.0, 7.0, 6.0, 5.0, 4.0, 3.0, 2.0, 1.0, 1.3173, 1.3173, 1.3173, 1.3173, 1.3172, 1.3172, 1.3172, 1.3171, 1.3171, 1.3171, 1.3171, 1.317, 1.317, 1.317, 1.317, 1.3169, 1.3168, 1.3168, 1.3168, 1.3167, 1.3167, 1.3166, 1.3163, 1.3162, 1.3162, 1.3161, 1.3161, 1.316, 1.316, 1.3159, 1.308, 1.285, 1.2287, 1.2565, 1.063, 0.5233, 1.1459, 0.5091, 0.4054, 0.3485, 0.367, 0.4103, 0.8192, 0.2078, 0.4339, 0.0713, 0.328, 0.3794, 0.7491, 0.135, -0.1187, 0.6229, -0.7141, 0.0488, 1.5573, 1.5572, 1.5571, 1.557, 1.5567, 1.5561, 1.556, 1.5559, 1.5558, 1.5558, 1.5558, 1.5556, 1.5555, 1.5554, 1.5554, 1.5553, 1.5553, 1.5552, 1.5552, 1.5551, 1.5549, 1.5549, 1.5549, 1.5549, 1.5547, 1.5545, 1.5543, 1.5543, 1.5543, 1.5542, 1.5431, 1.5186, 1.5203, 1.3599, 1.3975, 1.0755, 1.1716, 0.884, 1.1176, 1.1659, 0.8297, 1.0062, 0.9126, 0.822, 0.4474, 0.8872, 0.9468, 0.8241, 0.7909, 0.9936, 0.7783, 0.2229, -0.1521, 0.3339, 0.5396, 0.5205, 0.2852, -0.2008, -0.3839, -0.276, -0.6664, -0.035, 0.3193, -0.1159, -0.5379, 0.244, 1.6727, 1.6725, 1.6724, 1.6724, 1.6723, 1.6723, 1.6719, 1.6719, 1.6719, 1.6717, 1.6717, 1.6715, 1.6714, 1.6711, 1.6711, 1.6711, 1.6709, 1.6707, 1.6706, 1.6705, 1.6704, 1.6703, 1.6698, 1.669, 1.669, 1.6689, 1.6688, 1.668, 1.6679, 1.6677, 1.6548, 1.6511, 1.6093, 1.651, 1.6463, 1.5919, 1.6175, 1.5733, 1.5595, 1.6134, 1.3626, 1.5353, 1.5763, 1.4515, 1.417, 1.0218, 0.9084, 1.1035, 1.4676, 1.1718, 1.1751, 1.1928, 0.9758, 0.6513, 0.3942, 1.0752, 0.0937, 0.1524, 1.1925, -0.0102, 0.1741, 0.5924, 0.6412, 0.5159, 1.7611, 1.7607, 1.7606, 1.7606, 1.7605, 1.7605, 1.7604, 1.7604, 1.7602, 1.7601, 1.7601, 1.7601, 1.76, 1.76, 1.76, 1.76, 1.7598, 1.7596, 1.7595, 1.7593, 1.7589, 1.7589, 1.7588, 1.7588, 1.7587, 1.7586, 1.7585, 1.7585, 1.7584, 1.7583, 1.752, 1.7581, 1.7266, 1.7188, 1.6714, 1.6838, 1.6694, 1.6039, 1.5663, 1.57, 1.3708, 1.5005, 0.9655, 1.1989, 0.8384, 1.4284, 0.4853, 0.3462, 1.5214, 0.9715, 0.6048, 0.1561, 0.1965, 0.8635, 0.1105, 0.6508, -0.0451, 0.2691, -0.0636, -0.1767, 1.8197, 1.8196, 1.8191, 1.819, 1.819, 1.8189, 1.8188, 1.8188, 1.8188, 1.8187, 1.8185, 1.8183, 1.8183, 1.8182, 1.8182, 1.8182, 1.8182, 1.818, 1.8179, 1.8178, 1.8176, 1.8176, 1.8174, 1.8172, 1.8172, 1.8171, 1.817, 1.817, 1.817, 1.8169, 1.8164, 1.7708, 1.6346, 1.7006, 1.7875, 1.6982, 1.4636, 1.665, 1.5739, 1.5422, 1.505, 1.4452, 1.3295, 1.4324, 1.3066, 1.2406, 1.5063, 1.4706, 0.9761, 0.4292, 0.9732, -0.0946, 0.421, -0.0367, -0.3781, 0.3284, 0.8101, -0.4513, -0.3377, 0.5906, -0.2086, -0.9393, -0.1303]}, \"token.table\": {\"Topic\": [1, 4, 5, 1, 2, 3, 4, 5, 3, 4, 5, 2, 4, 3, 1, 4, 5, 1, 2, 3, 4, 5, 2, 3, 1, 2, 3, 4, 5, 1, 2, 1, 1, 3, 4, 5, 2, 4, 1, 2, 4, 5, 4, 5, 5, 4, 2, 2, 3, 5, 3, 4, 5, 1, 2, 3, 4, 5, 1, 2, 2, 4, 1, 1, 2, 3, 4, 5, 4, 4, 5, 1, 5, 1, 2, 3, 5, 1, 2, 3, 1, 3, 5, 2, 5, 4, 3, 1, 5, 2, 1, 2, 1, 1, 1, 3, 4, 2, 4, 5, 1, 4, 5, 1, 4, 5, 4, 1, 2, 3, 4, 5, 1, 2, 3, 4, 5, 3, 1, 2, 5, 1, 1, 2, 3, 4, 5, 1, 2, 1, 4, 3, 4, 5, 3, 5, 4, 1, 3, 4, 3, 5, 2, 3, 1, 2, 2, 4, 4, 5, 4, 4, 1, 2, 5, 1, 2, 3, 4, 5, 4, 1, 2, 3, 4, 5, 3, 3, 5, 1, 2, 3, 4, 2, 1, 2, 3, 4, 5, 2, 1, 4, 5, 1, 3, 5, 1, 2, 3, 2, 3, 5, 1, 2, 3, 4, 5, 4, 1, 5, 1, 1, 2, 3, 4, 5, 3, 4, 1, 2, 3, 4, 5, 5, 1, 1, 2, 3, 4, 5, 1, 2, 3, 4, 5, 5, 5, 1, 2, 3, 4, 5, 4, 5, 2, 4, 4, 3, 1, 2, 3, 4, 5, 1, 2, 3, 4, 5, 4, 1, 2, 3, 4, 5, 4, 5, 1, 2, 5, 3, 5, 4, 5, 1, 2, 3, 4, 5, 4, 2, 2, 5, 5, 4, 1, 2, 3, 4, 5, 1, 2, 3, 5, 1, 2, 3, 4, 5, 2, 3, 3, 1, 2, 3, 4, 5, 1, 2, 3, 4, 4, 3, 1, 2, 3, 4, 5, 1, 5, 5, 5, 1, 1, 4, 5, 4, 5, 1, 2, 4, 1, 2, 3, 4, 5, 1, 2, 5, 4, 2, 1, 1, 3, 5, 1, 3, 4, 1, 2, 3, 4, 5, 1, 3, 4, 5, 1, 2, 3, 4, 5, 1, 2, 3, 5, 1, 5, 1, 4, 5, 1, 2, 3, 5, 2, 5, 3, 5, 2, 2, 1, 1, 4, 1, 2, 1, 5, 5, 3, 4, 3, 1, 2, 3, 4, 5, 1, 2, 3, 4, 5, 2, 1, 2, 3, 4, 5, 1, 2, 3, 4, 5, 1, 2, 3, 4, 5, 3, 4, 5, 1, 3, 5, 3, 2, 3, 1, 2, 3, 1, 4, 2, 4, 5, 1, 1, 1, 3, 1, 1, 2, 3, 4, 1, 5, 1, 2, 3, 4, 5, 3, 4, 5, 3, 3, 3, 3, 3, 3, 2, 2, 1, 2, 3, 4, 5, 1, 2, 3, 4, 4, 1, 5, 1, 1, 2, 2, 4, 1, 2, 3, 4, 5, 4, 5, 1, 3, 4, 3, 1, 5, 1, 2, 4, 3, 3, 1, 4, 5, 2, 1, 4, 5, 5, 1, 2, 3, 4, 5, 1, 2, 3, 4, 5, 4, 1, 2, 3, 1, 2, 3, 4, 5, 1, 1, 2, 5, 5, 2, 5, 1, 2, 3, 4, 5, 2, 1, 2, 3, 4, 5, 1, 4, 3, 1, 5, 2, 3, 1, 4, 5, 4, 1, 2, 3, 4, 5, 1, 2, 3, 4, 5, 1, 2, 3, 4, 5, 1, 2, 3, 4, 5], \"Freq\": [0.485242431116142, 0.08595723065485944, 0.42859780446340057, 0.2897822442456204, 0.23396980965221845, 0.09426856330714838, 0.15705755222472553, 0.2249513369892602, 0.9960674242930555, 0.0031734525664454177, 0.0006611359513427953, 0.9987684859177, 0.9987772670481444, 0.9995783872795527, 0.011202187523002038, 0.03609593757411768, 0.9521859394551732, 0.08248978637426566, 0.5688581372043514, 0.2180087211319878, 0.12373467956139848, 0.00642777556163109, 0.9621706194234383, 0.03757430591890693, 0.181151647157357, 0.009270020323617414, 0.6187738566014624, 0.17690288784236569, 0.014291281332243515, 0.9993664252085485, 0.9985305451202172, 0.9996040150922969, 0.1532825343977861, 0.020872515322251723, 0.8257688874365838, 0.9989138436615611, 0.9978103259154203, 0.9990133243536596, 0.011310895604538889, 0.023250174298218827, 0.7703976672869265, 0.1947987576337253, 0.9905540402575261, 0.008923910272590325, 0.9974393921962603, 0.998821233163777, 0.9981394057734568, 0.12139026092953031, 0.19951270608219834, 0.6784633890566323, 0.8141148932911969, 0.17641853552433492, 0.008092593372675915, 0.24946062085915566, 0.13866354439177372, 0.25525684618742916, 0.32949311673800896, 0.026974740950811288, 0.9993944110716155, 0.9985778828549471, 0.9990313492935888, 0.9994286933426525, 0.999640194222808, 0.14799356072015735, 0.17066414293831872, 0.5658577321653075, 0.10773060670070278, 0.007617315625302217, 0.9984150532334567, 0.925473706266383, 0.07429261403514542, 0.7751130299966815, 0.2244420696748633, 0.04080258644179313, 0.19459695072239802, 0.6078539159662003, 0.1565842847210694, 0.039752216230090655, 0.051293182232375036, 0.9078893255130381, 0.19974623502172484, 0.7740944435109836, 0.02613502140471166, 0.9995349864799072, 0.9992026876428992, 0.9980596538447479, 0.9967847957048277, 0.9996370597239675, 0.997168816621454, 0.999648719446851, 0.3556174181995169, 0.6442344532599944, 0.9986074516950928, 0.9995987716945018, 0.32145905142003206, 0.0015963205532962487, 0.6768399145976094, 0.8524979594782056, 0.10685907570061072, 0.040368984153564054, 0.017298529433186036, 0.9658345600195536, 0.017298529433186036, 0.06986824877428112, 0.04279430237424719, 0.8873267594333702, 0.9999006562156633, 0.04087149989475601, 0.006342129294013864, 0.07962895669150741, 0.09090385321419872, 0.7814912652290417, 0.17482995627486106, 0.2260208615861107, 0.3394651136106173, 0.13730441975432636, 0.12233758726925761, 0.9975107950251096, 0.14603152996316307, 0.0963507001818808, 0.7572562842419693, 0.9997477096138843, 0.9994554172013108, 0.05016006029116084, 0.8012052873534069, 0.06642818795315894, 0.0820184769625738, 0.9980723526044766, 0.9993752966127664, 0.9989604179899282, 0.9993866389002432, 0.9991596109913222, 0.9138404132090432, 0.08526824962375242, 0.9976357683412356, 0.002152396479700616, 0.9983775925182241, 0.5663788454261862, 0.15998470590081554, 0.27345839420984763, 0.9982130060465436, 0.9988387253462698, 0.997476742456268, 0.9952516177150924, 0.9403466733622305, 0.05856448141973939, 0.9996286392312502, 0.9980231462402411, 0.5699927557362351, 0.42989352621184057, 0.9979775732665713, 0.9970654424499806, 0.5408313523712655, 0.458907391359362, 0.9976900401168014, 0.34744342481670193, 0.11600685778763635, 0.10504103540970057, 0.4074668736222451, 0.02395166466759656, 0.9983492296811454, 0.28511257270964113, 0.26891299471477514, 0.14674911830643292, 0.17743302486141435, 0.12197329313781438, 0.9984819605028843, 0.9961406131429266, 0.9974848901191327, 0.408425060214335, 0.05750083663473039, 0.08005018433462467, 0.4540874893066209, 0.9991600221820035, 0.1705775564886937, 0.08054478332386322, 0.521426919955765, 0.16129582729644312, 0.06620966823805402, 0.9982197651708309, 0.4455411446391033, 0.45130511447580207, 0.10313388886378752, 0.9905527810222057, 0.00933163241660109, 0.9951958341168008, 0.11494773484529199, 0.8207744199169229, 0.06425071407644134, 0.9857374412932388, 0.0007015924849062198, 0.013330257213218176, 0.4993423762099218, 0.05778227842152808, 0.3058723594055019, 0.00804927261593426, 0.12907583587694582, 0.9992469934951471, 0.29470792867808565, 0.7050026034091348, 0.9980080386852316, 0.0822785138395013, 0.5114516093328323, 0.2649647055848347, 0.10249950452887026, 0.03869879252620612, 0.8709677163705927, 0.12808348770155775, 0.1751632314367467, 0.5099898551023493, 0.10142613229241175, 0.13498403659687438, 0.07840209929428267, 0.998278874458298, 0.9995306729947534, 0.1706613663899796, 0.3545429794721407, 0.31440150315224413, 0.12162626956806996, 0.03893963571151647, 0.37945568104041394, 0.10816006469015231, 0.2061173736543896, 0.24291241824040227, 0.06333306346884483, 0.9961866343379419, 0.9981459871406302, 0.4036415811446202, 0.12302920313053102, 0.2783940983459936, 0.19188119129026648, 0.0030714641558246304, 0.8229906068751122, 0.17677274213698607, 0.9974026113324798, 0.9967855922642348, 0.9968504671976451, 0.999256793708967, 0.008435546596200112, 0.2823427066610508, 0.6187721532624435, 0.01935213630892967, 0.0719502503793539, 0.09010217681814912, 0.6799571250578929, 0.012048546900101336, 0.029859442317642444, 0.188585951479847, 0.9978382306699626, 0.2970910402656709, 0.1411811110331423, 0.1368702374138097, 0.06071147013893396, 0.36426882083360373, 0.9981084631092438, 0.9957412528579536, 0.17764357293328073, 0.2619923197936874, 0.560088459266261, 0.9784189156568641, 0.02096977289175715, 0.9977357081965935, 0.9991976123766473, 0.20372981306553783, 0.4647392848197147, 0.1554291279010638, 0.09722060988233872, 0.0789530430573133, 0.9993928484974061, 0.9986814041158368, 0.11347420068492672, 0.8853351699271887, 0.9979179585086136, 0.9991818643924223, 0.40165403803033783, 0.18092657366757797, 0.027239966032717295, 0.27919733720333023, 0.11097946378248114, 0.004614055390661127, 0.048777156986989055, 0.21620145259097853, 0.7296799024945525, 0.3912948616187589, 0.2802584841845478, 0.06985621943683851, 0.1667212874387554, 0.09186342937875422, 0.9952769617145146, 0.999660494411565, 0.9966590876498804, 0.19232030884441578, 0.29002313954077674, 0.21103811430413966, 0.1404863860328727, 0.16619765726875715, 0.28758563443966456, 0.3295219339456124, 0.2186341906826942, 0.16428977259633487, 0.998917723001465, 0.9956096813355084, 0.3865116003814625, 0.17230941359679522, 0.08408639214370014, 0.2008897615526146, 0.15613895356916058, 0.0014480964131246166, 0.9977384286428608, 0.998110200106573, 0.9990809024659613, 0.9989544484882646, 0.11198733137406948, 0.27563644025881284, 0.612240195592334, 0.9588794149616231, 0.04016927278893286, 0.01390001539371229, 0.2689350804435639, 0.7167573155192511, 0.2812569480251149, 0.21933607714796408, 0.18497078563813865, 0.17230155374511547, 0.14221212799918537, 0.058183451235549376, 0.2544203640390841, 0.6876226055110382, 0.9964305956529782, 0.9974921135835975, 0.9997961680321308, 0.9994053402460332, 0.9992573704739411, 0.9989370629414124, 0.027213829460032667, 0.9383450023872717, 0.03435936010037644, 0.10663038411071443, 0.0794809505179495, 0.15542067056727749, 0.060200917966565716, 0.5984679491970356, 0.22574151587439273, 0.6057646505450591, 0.14590974800887901, 0.02212565850954313, 0.31844039135677904, 0.06560266241037092, 0.49807343263496207, 0.04617526452918812, 0.07207846170409853, 0.9992906835293797, 0.00304101528891973, 0.9731248924543136, 0.022807614666897975, 0.9991761912292209, 0.9973334571131943, 0.9994646195080901, 0.997233013015771, 0.9989344253093361, 0.3203844420916775, 0.6757688652521936, 0.0006730765590161292, 0.0026923062360645167, 0.998414726677687, 0.9978995063824313, 0.9983725798355482, 0.999363493665656, 0.9975559512934423, 0.9969109774509897, 0.9996658843324743, 0.0025657278667142315, 0.998068140151836, 0.9676512976487476, 0.03171566126072818, 0.2687138397377926, 0.7308382307912825, 0.9965958973880108, 0.9221140868215498, 0.07775294668797583, 0.9959047594334907, 0.01944537035206132, 0.5764472011033289, 0.27958121372852607, 0.03413742795139654, 0.09074506164295283, 0.13113120470875225, 0.14349442493631623, 0.4655461780772858, 0.010944490037515643, 0.24881825190228465, 0.9983222237601215, 0.03700595006176143, 0.07273583288001385, 0.73322823812028, 0.11612211915932036, 0.04108936524099028, 0.037403386479118256, 0.14484644763972265, 0.5500498011635038, 0.13787915015831828, 0.1298117530745869, 0.4132288222000839, 0.20336988142356283, 0.07082739251207586, 0.22490803587167946, 0.08753326871862786, 0.9821528565373174, 0.007238087945002906, 0.010578743919619632, 0.8421525179047449, 0.03432469978189955, 0.12293032014912864, 0.9963626584529268, 0.021388789524924172, 0.9785371207652809, 0.9148519387463723, 0.08118140070786921, 0.00364275515996849, 0.21287240519253028, 0.7869001303057209, 0.9985940010697846, 0.9989405606594733, 0.9953193014422026, 0.9979229043374375, 0.9997214861281143, 0.9994701860951161, 0.992056966208348, 0.9997810350378469, 0.0007110088321753715, 0.09172013935062293, 0.8930270932122666, 0.01422017664350743, 0.14266465655628738, 0.8559879393377243, 0.154732109402429, 0.5246032268675255, 0.08851064295671304, 0.12210592349502748, 0.1098307248367972, 0.9458509273398803, 0.04830770835414636, 0.004900782006942384, 0.9992927794028481, 0.9984723592767235, 0.9988991508201311, 0.9993436171427524, 0.9986857527813953, 0.9997769282165803, 0.9987647512502765, 0.997404064570838, 0.19872758566659074, 0.48033991149625876, 0.12889556048982487, 0.046989773950720966, 0.1448851363480563, 0.09015297847111546, 0.6176785590176788, 0.00032664122634462123, 0.2916906151257468, 0.9989490598364144, 0.9997628320156747, 0.9989679478332371, 0.9996420360726577, 0.9991382631840554, 0.9976925942990544, 0.9977455421276183, 0.9992923302312133, 0.1375596999991093, 0.5429988157859578, 0.07511483618372415, 0.1809996052619859, 0.06334986184169507, 0.9977623270897497, 0.9985924039694573, 0.01439606328988564, 0.9421423641936268, 0.04318818986965692, 0.9997209020332891, 0.030975102777545258, 0.9679719617982894, 0.08871349535276957, 0.05670347125640942, 0.8546676433728161, 0.9991453526951705, 0.9980192562097104, 0.10817167397263887, 0.06107300253000663, 0.8306963479717003, 0.9983089846525923, 0.607400029547598, 0.09994841828004444, 0.2924110749680639, 0.9995733974345755, 0.1905150662050899, 0.4792413874693928, 0.12504089616561456, 0.07851977534809261, 0.1267639006403376, 0.4519143200915914, 0.00016375684989428362, 0.003165965764622817, 0.39738328907679493, 0.14738116490485526, 0.9992115068879971, 0.9995408437808672, 0.09420060372783169, 0.9054101192833319, 0.19824926800268683, 0.2941675304981368, 0.36006869804479735, 0.14408205575418945, 0.0035474748575842104, 0.9988562531381071, 0.035721022853205026, 0.9637234290604273, 0.9981996720374577, 0.9989046721367021, 0.9997837679543263, 0.9989058663632036, 0.3717370865242473, 0.18755943973686656, 0.08857696148460896, 0.31463681326177545, 0.03745986036353507, 0.9967911582564299, 0.3065565267940772, 0.1594390846376944, 0.15810300292285337, 0.12915456576796475, 0.24687821019784523, 0.08691664987880356, 0.9126248237274374, 0.9979159528052949, 0.9993799742184143, 0.9988553570212276, 0.9981662471358776, 0.9946087253547258, 0.1644098828299337, 0.13541246589154274, 0.7000414145787027, 0.9989843360911522, 0.3296070351767779, 0.15983661315514205, 0.18581108060113816, 0.20917995883625062, 0.11554159657012052, 0.18561923545822254, 0.4830140202008402, 0.06957915718506527, 0.14813627013594544, 0.11379558933170353, 0.23784021606530267, 0.2632770983791459, 0.2233508527219742, 0.14403500449442067, 0.131477556263536, 0.13839049840591852, 0.3614322295137391, 0.356438757921773, 0.10581404087737757, 0.03804549784355148], \"Term\": [\"add\", \"add\", \"add\", \"also\", \"also\", \"also\", \"also\", \"also\", \"amazon\", \"amazon\", \"amazon\", \"animal\", \"aroma\", \"arrive\", \"artificial\", \"artificial\", \"artificial\", \"away\", \"away\", \"away\", \"away\", \"away\", \"baby\", \"baby\", \"bag\", \"bag\", \"bag\", \"bag\", \"bag\", \"bake\", \"ball\", \"bar\", \"bean\", \"bean\", \"bean\", \"berry\", \"bird\", \"bitter\", \"black\", \"black\", \"black\", \"black\", \"blend\", \"blend\", \"blood\", \"bold\", \"bone\", \"bottle\", \"bottle\", \"bottle\", \"box\", \"box\", \"box\", \"brand\", \"brand\", \"brand\", \"brand\", \"brand\", \"bread\", \"breast\", \"breath\", \"brew\", \"butter\", \"buy\", \"buy\", \"buy\", \"buy\", \"buy\", \"cafe\", \"caffeine\", \"caffeine\", \"calorie\", \"calorie\", \"can\", \"can\", \"can\", \"can\", \"carry\", \"carry\", \"carry\", \"case\", \"case\", \"case\", \"cat\", \"chai\", \"chamomile\", \"charge\", \"cheese\", \"cherry\", \"chew\", \"chicken\", \"chicken\", \"chili\", \"chip\", \"chocolate\", \"chocolate\", \"chocolate\", \"clean\", \"clean\", \"clean\", \"cocoa\", \"cocoa\", \"cocoa\", \"coconut\", \"coconut\", \"coconut\", \"coffee\", \"color\", \"color\", \"color\", \"color\", \"color\", \"come\", \"come\", \"come\", \"come\", \"come\", \"condition\", \"contain\", \"contain\", \"contain\", \"cook\", \"cookie\", \"cost\", \"cost\", \"cost\", \"cost\", \"cracker\", \"critter\", \"crunchy\", \"cup\", \"customer\", \"dark\", \"dark\", \"date\", \"date\", \"decaf\", \"delicious\", \"delicious\", \"delicious\", \"delivery\", \"dent\", \"dental\", \"discount\", \"dish\", \"dish\", \"dog\", \"donut\", \"drink\", \"drink\", \"drinker\", \"drip\", \"eat\", \"eat\", \"email\", \"enjoy\", \"enjoy\", \"enjoy\", \"enjoy\", \"enjoy\", \"espresso\", \"even\", \"even\", \"even\", \"even\", \"even\", \"expiration\", \"expire\", \"extract\", \"favorite\", \"favorite\", \"favorite\", \"favorite\", \"feed\", \"find\", \"find\", \"find\", \"find\", \"find\", \"fishy\", \"flavor\", \"flavor\", \"flavor\", \"flour\", \"flour\", \"flower\", \"food\", \"food\", \"food\", \"formula\", \"formula\", \"formula\", \"free\", \"free\", \"free\", \"free\", \"free\", \"french\", \"fruit\", \"fruit\", \"garlic\", \"get\", \"get\", \"get\", \"get\", \"get\", \"gift\", \"gift\", \"give\", \"give\", \"give\", \"give\", \"give\", \"glass\", \"gluten\", \"go\", \"go\", \"go\", \"go\", \"go\", \"good\", \"good\", \"good\", \"good\", \"good\", \"granule\", \"grape\", \"great\", \"great\", \"great\", \"great\", \"great\", \"green\", \"green\", \"greenie\", \"grey\", \"grind\", \"grocery\", \"happy\", \"happy\", \"happy\", \"happy\", \"happy\", \"help\", \"help\", \"help\", \"help\", \"help\", \"herbal\", \"high\", \"high\", \"high\", \"high\", \"high\", \"iced\", \"information\", \"ingredient\", \"ingredient\", \"ingredient\", \"item\", \"item\", \"jasmine\", \"juice\", \"keep\", \"keep\", \"keep\", \"keep\", \"keep\", \"keurig\", \"kitty\", \"label\", \"label\", \"leaf\", \"licorice\", \"like\", \"like\", \"like\", \"like\", \"like\", \"list\", \"list\", \"list\", \"list\", \"little\", \"little\", \"little\", \"little\", \"little\", \"liver\", \"local\", \"locally\", \"look\", \"look\", \"look\", \"look\", \"look\", \"love\", \"love\", \"love\", \"love\", \"machine\", \"mail\", \"make\", \"make\", \"make\", \"make\", \"make\", \"maple\", \"maple\", \"marker\", \"matcha\", \"microwave\", \"milk\", \"milk\", \"milk\", \"mint\", \"mint\", \"morning\", \"morning\", \"morning\", \"much\", \"much\", \"much\", \"much\", \"much\", \"natural\", \"natural\", \"natural\", \"nespresso\", \"nest\", \"noodle\", \"oatmeal\", \"online\", \"orange\", \"order\", \"order\", \"order\", \"organic\", \"organic\", \"organic\", \"organic\", \"organic\", \"pack\", \"pack\", \"pack\", \"pack\", \"package\", \"package\", \"package\", \"package\", \"package\", \"pasta\", \"pay\", \"pay\", \"pay\", \"peanut\", \"pen\", \"pepper\", \"peppermint\", \"picture\", \"piece\", \"piece\", \"piece\", \"piece\", \"pill\", \"pink\", \"pizza\", \"plant\", \"play\", \"pocket\", \"popcorn\", \"popper\", \"popper\", \"potato\", \"potato\", \"powder\", \"powder\", \"pressure\", \"price\", \"price\", \"prime\", \"problem\", \"problem\", \"problem\", \"problem\", \"problem\", \"product\", \"product\", \"product\", \"product\", \"product\", \"puppy\", \"purchase\", \"purchase\", \"purchase\", \"purchase\", \"purchase\", \"quality\", \"quality\", \"quality\", \"quality\", \"quality\", \"really\", \"really\", \"really\", \"really\", \"really\", \"receive\", \"receive\", \"receive\", \"recipe\", \"recipe\", \"recipe\", \"refund\", \"return\", \"return\", \"rice\", \"rice\", \"rice\", \"rich\", \"rich\", \"ridder\", \"roast\", \"s\", \"salad\", \"salt\", \"salty\", \"sardine\", \"sauce\", \"save\", \"save\", \"save\", \"save\", \"seed\", \"seed\", \"seem\", \"seem\", \"seem\", \"seem\", \"seem\", \"sell\", \"sell\", \"sell\", \"seller\", \"send\", \"service\", \"ship\", \"shipment\", \"shipping\", \"sick\", \"skunk\", \"small\", \"small\", \"small\", \"small\", \"small\", \"smell\", \"smell\", \"smell\", \"smell\", \"smooth\", \"snack\", \"soda\", \"soup\", \"spicy\", \"sprout\", \"squirrel\", \"starbuck\", \"start\", \"start\", \"start\", \"start\", \"start\", \"stash\", \"stevia\", \"stock\", \"stock\", \"stock\", \"store\", \"strawberry\", \"strawberry\", \"strong\", \"strong\", \"strong\", \"subscribe\", \"subscription\", \"sugar\", \"sugar\", \"sugar\", \"swallow\", \"sweet\", \"sweet\", \"sweet\", \"syrup\", \"take\", \"take\", \"take\", \"take\", \"take\", \"taste\", \"taste\", \"taste\", \"taste\", \"taste\", \"tea\", \"texture\", \"thank\", \"thank\", \"time\", \"time\", \"time\", \"time\", \"time\", \"tomato\", \"tooth\", \"tooth\", \"trap\", \"tray\", \"treat\", \"tree\", \"try\", \"try\", \"try\", \"try\", \"try\", \"turkey\", \"use\", \"use\", \"use\", \"use\", \"use\", \"vanilla\", \"vanilla\", \"vendor\", \"vinegar\", \"vitamin\", \"walk\", \"walmart\", \"water\", \"water\", \"water\", \"weak\", \"well\", \"well\", \"well\", \"well\", \"well\", \"work\", \"work\", \"work\", \"work\", \"work\", \"would\", \"would\", \"would\", \"would\", \"would\", \"year\", \"year\", \"year\", \"year\", \"year\"]}, \"R\": 30, \"lambda.step\": 0.01, \"plot.opts\": {\"xlab\": \"PC1\", \"ylab\": \"PC2\"}, \"topic.order\": [2, 4, 3, 1, 5]};\n",
              "\n",
              "function LDAvis_load_lib(url, callback){\n",
              "  var s = document.createElement('script');\n",
              "  s.src = url;\n",
              "  s.async = true;\n",
              "  s.onreadystatechange = s.onload = callback;\n",
              "  s.onerror = function(){console.warn(\"failed to load library \" + url);};\n",
              "  document.getElementsByTagName(\"head\")[0].appendChild(s);\n",
              "}\n",
              "\n",
              "if(typeof(LDAvis) !== \"undefined\"){\n",
              "   // already loaded: just create the visualization\n",
              "   !function(LDAvis){\n",
              "       new LDAvis(\"#\" + \"ldavis_el5531382756417131369691795472\", ldavis_el5531382756417131369691795472_data);\n",
              "   }(LDAvis);\n",
              "}else if(typeof define === \"function\" && define.amd){\n",
              "   // require.js is available: use it to load d3/LDAvis\n",
              "   require.config({paths: {d3: \"https://d3js.org/d3.v5\"}});\n",
              "   require([\"d3\"], function(d3){\n",
              "      window.d3 = d3;\n",
              "      LDAvis_load_lib(\"https://cdn.jsdelivr.net/gh/bmabey/pyLDAvis@3.4.0/pyLDAvis/js/ldavis.v3.0.0.js\", function(){\n",
              "        new LDAvis(\"#\" + \"ldavis_el5531382756417131369691795472\", ldavis_el5531382756417131369691795472_data);\n",
              "      });\n",
              "    });\n",
              "}else{\n",
              "    // require.js not available: dynamically load d3 & LDAvis\n",
              "    LDAvis_load_lib(\"https://d3js.org/d3.v5.js\", function(){\n",
              "         LDAvis_load_lib(\"https://cdn.jsdelivr.net/gh/bmabey/pyLDAvis@3.4.0/pyLDAvis/js/ldavis.v3.0.0.js\", function(){\n",
              "                 new LDAvis(\"#\" + \"ldavis_el5531382756417131369691795472\", ldavis_el5531382756417131369691795472_data);\n",
              "            })\n",
              "         });\n",
              "}\n",
              "</script>"
            ]
          },
          "metadata": {},
          "execution_count": 10
        }
      ]
    },
    {
      "cell_type": "code",
      "source": [],
      "metadata": {
        "id": "ghjbcj--8EZV"
      },
      "execution_count": null,
      "outputs": []
    }
  ]
}